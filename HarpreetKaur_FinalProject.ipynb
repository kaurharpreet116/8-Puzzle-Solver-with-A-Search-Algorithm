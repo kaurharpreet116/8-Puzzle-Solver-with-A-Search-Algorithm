{
 "cells": [
  {
   "cell_type": "markdown",
   "id": "92a85952-91e7-4b01-b392-558f55a96124",
   "metadata": {},
   "source": [
    "## Final Project: "
   ]
  },
  {
   "cell_type": "markdown",
   "id": "45bb4ce5-c534-4073-b981-61e230d5b9d6",
   "metadata": {},
   "source": [
    "### Objective: \n",
    "The 8-puzzle is a sliding puzzle consisting of a 3x3 grid with tiles numbered 1 through 8 and a blank space. The goal is to reach a target configuration by sliding tiles into the blank space. This problem models real-world challenges in robotics and AI."
   ]
  },
  {
   "cell_type": "markdown",
   "id": "e3237f21-78bf-4d49-92bd-d5064d661add",
   "metadata": {},
   "source": [
    "### Importing Libraries:"
   ]
  },
  {
   "cell_type": "code",
   "execution_count": 1,
   "id": "2717f172-5931-466c-9e63-217ea04252c4",
   "metadata": {},
   "outputs": [
    {
     "name": "stdout",
     "output_type": "stream",
     "text": [
      "Defaulting to user installation because normal site-packages is not writeable\n",
      "Requirement already satisfied: pygame in c:\\users\\multa\\appdata\\local\\packages\\pythonsoftwarefoundation.python.3.13_qbz5n2kfra8p0\\localcache\\local-packages\\python313\\site-packages (2.6.1)\n"
     ]
    },
    {
     "name": "stderr",
     "output_type": "stream",
     "text": [
      "\n",
      "[notice] A new release of pip is available: 25.0.1 -> 25.1.1\n",
      "[notice] To update, run: C:\\Users\\multa\\AppData\\Local\\Microsoft\\WindowsApps\\PythonSoftwareFoundation.Python.3.13_qbz5n2kfra8p0\\python.exe -m pip install --upgrade pip\n"
     ]
    }
   ],
   "source": [
    "!pip install pygame"
   ]
  },
  {
   "cell_type": "code",
   "execution_count": 2,
   "id": "0b0677d1-2fed-454b-af95-49bc144cef95",
   "metadata": {},
   "outputs": [
    {
     "name": "stdout",
     "output_type": "stream",
     "text": [
      "pygame 2.6.1 (SDL 2.28.4, Python 3.13.3)\n",
      "Hello from the pygame community. https://www.pygame.org/contribute.html\n"
     ]
    },
    {
     "name": "stderr",
     "output_type": "stream",
     "text": [
      "C:\\Users\\multa\\AppData\\Local\\Packages\\PythonSoftwareFoundation.Python.3.13_qbz5n2kfra8p0\\LocalCache\\local-packages\\Python313\\site-packages\\pygame\\pkgdata.py:25: UserWarning: pkg_resources is deprecated as an API. See https://setuptools.pypa.io/en/latest/pkg_resources.html. The pkg_resources package is slated for removal as early as 2025-11-30. Refrain from using this package or pin to Setuptools<81.\n",
      "  from pkg_resources import resource_stream, resource_exists\n"
     ]
    }
   ],
   "source": [
    "import heapq\n",
    "import copy\n",
    "import pygame\n",
    "import sys\n",
    "import time"
   ]
  },
  {
   "cell_type": "markdown",
   "id": "2ce84b70-d9ff-43ba-b2a3-a98466f9fe9f",
   "metadata": {},
   "source": [
    "### Constants"
   ]
  },
  {
   "cell_type": "code",
   "execution_count": 3,
   "id": "0f6f38df-e9c7-449b-b0fa-3ed0f606745c",
   "metadata": {},
   "outputs": [],
   "source": [
    "WIDTH, HEIGHT = 600, 650\n",
    "GRID_SIZE = 3\n",
    "TILE_SIZE = 150\n",
    "MARGIN = 50\n",
    "WHITE = (255, 255, 255)\n",
    "BLACK = (0, 0, 0)\n",
    "BLUE = (0, 0, 255)\n",
    "GRAY = (200, 200, 200)\n",
    "FONT_SIZE = 40"
   ]
  },
  {
   "cell_type": "markdown",
   "id": "df14d16c-954f-4985-ae18-e2e90633d057",
   "metadata": {},
   "source": [
    "### Initialize Pygame"
   ]
  },
  {
   "cell_type": "code",
   "execution_count": 4,
   "id": "f5e244c6-88d4-464c-81a9-9fb26f15a818",
   "metadata": {},
   "outputs": [],
   "source": [
    "pygame.init()\n",
    "screen = pygame.display.set_mode((WIDTH, HEIGHT))\n",
    "pygame.display.set_caption(\"8-Puzzle Solver\")\n",
    "font = pygame.font.SysFont('Arial', FONT_SIZE)\n",
    "small_font = pygame.font.SysFont('Arial', 20)"
   ]
  },
  {
   "cell_type": "markdown",
   "id": "ba688cc9-c7b5-4b6b-b937-72c3994c2328",
   "metadata": {},
   "source": [
    "### PuzzleState Class"
   ]
  },
  {
   "cell_type": "code",
   "execution_count": 5,
   "id": "548bd330-4c20-4f55-846c-79236309e287",
   "metadata": {},
   "outputs": [],
   "source": [
    "class PuzzleState:\n",
    "    \"\"\"Represents a state of the 8-puzzle board\"\"\"\n",
    "    \n",
    "    def __init__(self, board, parent=None, move=None, depth=0):\n",
    "        self.board = board\n",
    "        self.parent = parent\n",
    "        self.move = move\n",
    "        self.depth = depth\n",
    "        self.blank_pos = self.find_blank()\n",
    "        \n",
    "    def find_blank(self):\n",
    "        \"\"\"Find the position of the blank tile (0)\"\"\"\n",
    "        for i in range(GRID_SIZE):\n",
    "            for j in range(GRID_SIZE):\n",
    "                if self.board[i][j] == 0:\n",
    "                    return (i, j)\n",
    "    \n",
    "    def __eq__(self, other):\n",
    "        return self.board == other.board\n",
    "    \n",
    "    def __hash__(self):\n",
    "        return hash(str(self.board))\n",
    "    \n",
    "    def __lt__(self, other):\n",
    "        return False\n",
    "    \n",
    "    def is_goal(self, goal):\n",
    "        \"\"\"Check if current state matches the goal state\"\"\"\n",
    "        return self.board == goal\n",
    "    \n",
    "    def get_children(self):\n",
    "        \"\"\"Generate all possible next states from current state\"\"\"\n",
    "        children = []\n",
    "        i, j = self.blank_pos\n",
    "        moves = [(0, 1), (1, 0), (0, -1), (-1, 0)]  # Right, Down, Left, Up\n",
    "        \n",
    "        for di, dj in moves:\n",
    "            ni, nj = i + di, j + dj\n",
    "            if 0 <= ni < GRID_SIZE and 0 <= nj < GRID_SIZE:\n",
    "                new_board = copy.deepcopy(self.board)\n",
    "                new_board[i][j], new_board[ni][nj] = new_board[ni][nj], new_board[i][j]\n",
    "                move_desc = f\"Move {new_board[i][j]} {'up' if di == -1 else 'down' if di == 1 else 'left' if dj == -1 else 'right'}\"\n",
    "                children.append(PuzzleState(new_board, self, move_desc, self.depth + 1))\n",
    "        \n",
    "        return children\n",
    "    \n",
    "    def manhattan_distance(self, goal):\n",
    "        \"\"\"Calculate Manhattan distance heuristic\"\"\"\n",
    "        distance = 0\n",
    "        goal_positions = {}\n",
    "        \n",
    "        for i in range(GRID_SIZE):\n",
    "            for j in range(GRID_SIZE):\n",
    "                goal_positions[goal[i][j]] = (i, j)\n",
    "        \n",
    "        for i in range(GRID_SIZE):\n",
    "            for j in range(GRID_SIZE):\n",
    "                if self.board[i][j] != 0:\n",
    "                    goal_i, goal_j = goal_positions[self.board[i][j]]\n",
    "                    distance += abs(i - goal_i) + abs(j - goal_j)\n",
    "        \n",
    "        return distance\n",
    "    \n",
    "    def get_path(self):\n",
    "        \"\"\"Reconstruct the path from initial state to current state\"\"\"\n",
    "        path = []\n",
    "        current = self\n",
    "        while current.parent is not None:\n",
    "            path.append(current.move)\n",
    "            current = current.parent\n",
    "        return path[::-1]"
   ]
  },
  {
   "cell_type": "markdown",
   "id": "db60f98e-414f-4813-924c-827add35e53c",
   "metadata": {},
   "source": [
    "### Search Algorithm"
   ]
  },
  {
   "cell_type": "code",
   "execution_count": 6,
   "id": "7a68356e-10ba-4528-94bf-59985d6bd878",
   "metadata": {},
   "outputs": [],
   "source": [
    "def a_star_search(initial, goal):\n",
    "    \"\"\"A* search algorithm to solve the 8-puzzle\"\"\"\n",
    "    open_set = []\n",
    "    closed_set = set()\n",
    "    heapq.heappush(open_set, (0, initial))\n",
    "    g_score = {initial: 0}\n",
    "    f_score = {initial: initial.manhattan_distance(goal)}\n",
    "    \n",
    "    while open_set:\n",
    "        _, current = heapq.heappop(open_set)\n",
    "        \n",
    "        if current.is_goal(goal):\n",
    "            return current.get_path()\n",
    "        \n",
    "        closed_set.add(current)\n",
    "        \n",
    "        for child in current.get_children():\n",
    "            if child in closed_set:\n",
    "                continue\n",
    "                \n",
    "            tentative_g_score = g_score[current] + 1\n",
    "            \n",
    "            if child not in g_score or tentative_g_score < g_score[child]:\n",
    "                child.parent = current\n",
    "                g_score[child] = tentative_g_score\n",
    "                f_score[child] = g_score[child] + child.manhattan_distance(goal)\n",
    "                heapq.heappush(open_set, (f_score[child], child))\n",
    "    \n",
    "    return None\n"
   ]
  },
  {
   "cell_type": "markdown",
   "id": "c38be4b5-3f2a-4a2b-9c97-8b8161e3d239",
   "metadata": {},
   "source": [
    "### Drawing Functions"
   ]
  },
  {
   "cell_type": "code",
   "execution_count": 7,
   "id": "d182edb4-b9c9-4600-9663-873345160140",
   "metadata": {},
   "outputs": [],
   "source": [
    "def draw_board(board, message=None):\n",
    "    \"\"\"Draw the puzzle board on the screen\"\"\"\n",
    "    screen.fill(WHITE)\n",
    "    \n",
    "    # Draw title\n",
    "    title = font.render(\"8-Puzzle Solver\", True, BLACK)\n",
    "    screen.blit(title, (WIDTH//2 - title.get_width()//2, 10))\n",
    "    \n",
    "    # Draw the board\n",
    "    for i in range(GRID_SIZE):\n",
    "        for j in range(GRID_SIZE):\n",
    "            rect = pygame.Rect(\n",
    "                MARGIN + j * TILE_SIZE,\n",
    "                MARGIN + i * TILE_SIZE + 50,\n",
    "                TILE_SIZE,\n",
    "                TILE_SIZE\n",
    "            )\n",
    "            pygame.draw.rect(screen, BLUE, rect, 0 if board[i][j] != 0 else 2)\n",
    "            \n",
    "            if board[i][j] != 0:\n",
    "                text = font.render(str(board[i][j]), True, WHITE)\n",
    "                screen.blit(\n",
    "                    text,\n",
    "                    (\n",
    "                        rect.centerx - text.get_width() // 2,\n",
    "                        rect.centery - text.get_height() // 2\n",
    "                    )\n",
    "                )\n",
    "    \n",
    "    # Draw message if any\n",
    "    if message:\n",
    "        msg = small_font.render(message, True, BLACK)\n",
    "        screen.blit(msg, (WIDTH//2 - msg.get_width()//2, HEIGHT - 50))\n",
    "    \n",
    "    pygame.display.flip()\n"
   ]
  },
  {
   "cell_type": "markdown",
   "id": "124b567d-367b-4084-94aa-f9cc75f17588",
   "metadata": {},
   "source": [
    "### Animation Function"
   ]
  },
  {
   "cell_type": "code",
   "execution_count": 8,
   "id": "99f72e89-1cea-4e3d-b12a-7fb7754e5ad6",
   "metadata": {},
   "outputs": [],
   "source": [
    "def animate_solution(initial_board, goal_board, path):\n",
    "    \"\"\"Animate the solution step by step\"\"\"\n",
    "    current_board = copy.deepcopy(initial_board)\n",
    "    draw_board(current_board, \"Press any key to start solving...\")\n",
    "    waiting = True\n",
    "    \n",
    "    while waiting:\n",
    "        for event in pygame.event.get():\n",
    "            if event.type == pygame.QUIT:\n",
    "                pygame.quit()\n",
    "                sys.exit()\n",
    "            if event.type == pygame.KEYDOWN or event.type == pygame.MOUSEBUTTONDOWN:\n",
    "                waiting = False\n",
    "    \n",
    "    solution = a_star_search(PuzzleState(initial_board), goal_board)\n",
    "    \n",
    "    if not solution:\n",
    "        draw_board(current_board, \"No solution found!\")\n",
    "        time.sleep(2)\n",
    "        return\n",
    "    \n",
    "    for step in solution:\n",
    "        # Extract the tile number from the move description\n",
    "        tile_num = int(''.join(filter(str.isdigit, step)))\n",
    "        \n",
    "        # Find the blank position\n",
    "        blank_i, blank_j = None, None\n",
    "        for i in range(GRID_SIZE):\n",
    "            for j in range(GRID_SIZE):\n",
    "                if current_board[i][j] == 0:\n",
    "                    blank_i, blank_j = i, j\n",
    "                    break\n",
    "        \n",
    "        # Find the tile to move\n",
    "        tile_i, tile_j = None, None\n",
    "        for i in range(GRID_SIZE):\n",
    "            for j in range(GRID_SIZE):\n",
    "                if current_board[i][j] == tile_num:\n",
    "                    tile_i, tile_j = i, j\n",
    "                    break\n",
    "        \n",
    "        # Swap the tile with the blank\n",
    "        current_board[blank_i][blank_j], current_board[tile_i][tile_j] = current_board[tile_i][tile_j], current_board[blank_i][blank_j]\n",
    "        \n",
    "        draw_board(current_board, step)\n",
    "        time.sleep(0.8)\n",
    "    \n",
    "    draw_board(current_board, \"Puzzle solved!\")\n",
    "    time.sleep(2)\n"
   ]
  },
  {
   "cell_type": "markdown",
   "id": "610b0a6c-81e5-4ca3-8020-a7bcad51a732",
   "metadata": {},
   "source": [
    "### Main Function"
   ]
  },
  {
   "cell_type": "code",
   "execution_count": null,
   "id": "60a0b8fe-fcd8-4738-a148-4618facbadf0",
   "metadata": {},
   "outputs": [],
   "source": [
    "def main():\n",
    "    \"\"\"Main function to run the 8-puzzle solver\"\"\"\n",
    "    # Initial and goal states from the problem\n",
    "    initial_board = [\n",
    "        [2, 8, 1],\n",
    "        [0, 4, 3],\n",
    "        [7, 6, 5]\n",
    "    ]\n",
    "    \n",
    "    goal_board = [\n",
    "        [1, 2, 3],\n",
    "        [8, 0, 4],\n",
    "        [7, 6, 5]\n",
    "    ]\n",
    "    \n",
    "    running = True\n",
    "    animate_solution(initial_board, goal_board, None)\n",
    "    \n",
    "    while running:\n",
    "        for event in pygame.event.get():\n",
    "            if event.type == pygame.QUIT:\n",
    "                running = False\n",
    "            if event.type == pygame.KEYDOWN:\n",
    "                if event.key == pygame.K_r:  # Reset the puzzle\n",
    "                    animate_solution(initial_board, goal_board, None)\n",
    "        \n",
    "        draw_board(initial_board, \"Press R to replay solution or close window to exit\")\n",
    "    \n",
    "    pygame.quit()\n",
    "    sys.exit()\n",
    "\n",
    "if __name__ == \"__main__\":\n",
    "    main()"
   ]
  },
  {
   "cell_type": "code",
   "execution_count": null,
   "id": "4e980587-ec50-4463-ba4c-5c8176b5990d",
   "metadata": {},
   "outputs": [],
   "source": []
  },
  {
   "cell_type": "code",
   "execution_count": null,
   "id": "05503f5b-f554-4a51-a21b-822c3d676b86",
   "metadata": {},
   "outputs": [],
   "source": []
  },
  {
   "cell_type": "code",
   "execution_count": null,
   "id": "b1041cf9-cc62-4af3-8503-d4ad9c4ec347",
   "metadata": {},
   "outputs": [],
   "source": []
  },
  {
   "cell_type": "code",
   "execution_count": null,
   "id": "b5384e3b-db25-492b-9f30-8d629f118d42",
   "metadata": {},
   "outputs": [],
   "source": []
  },
  {
   "cell_type": "code",
   "execution_count": null,
   "id": "6e01e6ac-5a49-4243-885a-c33f8a09f53d",
   "metadata": {},
   "outputs": [],
   "source": []
  },
  {
   "cell_type": "code",
   "execution_count": null,
   "id": "8d70f431-e42e-4d17-b1d8-a22301ca2800",
   "metadata": {},
   "outputs": [],
   "source": []
  }
 ],
 "metadata": {
  "kernelspec": {
   "display_name": "Python 3 (ipykernel)",
   "language": "python",
   "name": "python3"
  },
  "language_info": {
   "codemirror_mode": {
    "name": "ipython",
    "version": 3
   },
   "file_extension": ".py",
   "mimetype": "text/x-python",
   "name": "python",
   "nbconvert_exporter": "python",
   "pygments_lexer": "ipython3",
   "version": "3.13.3"
  }
 },
 "nbformat": 4,
 "nbformat_minor": 5
}
